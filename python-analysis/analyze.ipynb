{
 "cells": [
  {
   "cell_type": "markdown",
   "id": "9929a8f7-6937-4498-871e-5f5eaf5b0d12",
   "metadata": {
    "tags": []
   },
   "source": [
    "Działając na zbiorze należy dla każdej wytwórni, każdego artysty, w każdej dekadzie, wyznaczyć liczbę\n",
    "wydanych płyt oraz lista różnych gatunków, których te płyty dotyczyły. <br> <br>\n",
    "W wynikowym zbiorze (3) powinny znaleźć się atrybuty:\n",
    "- identyfikator wytwórni\n",
    "- identyfikator artysty\n",
    "- nazwa artysty\n",
    "- dekada\n",
    "- liczba wydanych płyt\n",
    "- lista różnych gatunków na wydanych płytach"
   ]
  },
  {
   "cell_type": "code",
   "execution_count": 1,
   "id": "150979c0-0b92-46b4-98a8-d7e3a25d5ed6",
   "metadata": {
    "tags": []
   },
   "outputs": [],
   "source": [
    "import pandas as pd\n",
    "import numpy as np\n",
    "\n",
    "columns = ['id', 'release_id', 'status', 'title', 'artist_id', 'artist_name', 'label_id', 'format', 'genre', 'style', 'country', 'release_date', '?']\n",
    "df = pd.read_csv('test0.csv', header=None, names=columns)\n",
    "df.reset_index(drop=True, inplace=True)\n",
    "df['decade'] = df['release_date'] // 10 * 10\n",
    "grouped = df.groupby(['label_id', 'artist_id', 'decade'])"
   ]
  },
  {
   "cell_type": "code",
   "execution_count": 2,
   "id": "da369a1b-e4ba-4bb9-90c6-8e73229b0195",
   "metadata": {
    "tags": []
   },
   "outputs": [],
   "source": [
    "def custom_agg(series):\n",
    "    num_records = series['id'].nunique()\n",
    "    unique_genres = series['genre'].unique()\n",
    "    artist_name = series['artist_name'].iloc[0]\n",
    "    return pd.Series({'artist_name': artist_name, 'num_records': num_records, 'unique_genres': unique_genres})\n",
    "\n",
    "result = grouped.apply(custom_agg).reset_index()"
   ]
  },
  {
   "cell_type": "code",
   "execution_count": 4,
   "id": "f7c85322-4621-482e-8d37-907a7230529a",
   "metadata": {
    "tags": []
   },
   "outputs": [
    {
     "data": {
      "text/plain": [
       "array(['Electronic', 'Pop', 'Non-Music', 'Classical', 'Rock', 'Jazz',\n",
       "       'Stage & Screen', 'Brass & Military', 'Reggae', 'Hip Hop',\n",
       "       'Folk, World, & Country'], dtype=object)"
      ]
     },
     "execution_count": 4,
     "metadata": {},
     "output_type": "execute_result"
    }
   ],
   "source": [
    "result[result.num_records == result.num_records.max()].unique_genres.values[0]"
   ]
  },
  {
   "cell_type": "code",
   "execution_count": 6,
   "id": "abc793ee-fc99-4441-bf6d-b7ab7a19f78e",
   "metadata": {
    "tags": []
   },
   "outputs": [
    {
     "data": {
      "text/html": [
       "<div>\n",
       "<style scoped>\n",
       "    .dataframe tbody tr th:only-of-type {\n",
       "        vertical-align: middle;\n",
       "    }\n",
       "\n",
       "    .dataframe tbody tr th {\n",
       "        vertical-align: top;\n",
       "    }\n",
       "\n",
       "    .dataframe thead th {\n",
       "        text-align: right;\n",
       "    }\n",
       "</style>\n",
       "<table border=\"1\" class=\"dataframe\">\n",
       "  <thead>\n",
       "    <tr style=\"text-align: right;\">\n",
       "      <th></th>\n",
       "      <th>label_id</th>\n",
       "      <th>artist_id</th>\n",
       "      <th>decade</th>\n",
       "      <th>artist_name</th>\n",
       "      <th>num_records</th>\n",
       "      <th>unique_genres</th>\n",
       "    </tr>\n",
       "  </thead>\n",
       "  <tbody>\n",
       "    <tr>\n",
       "      <th>0</th>\n",
       "      <td>1</td>\n",
       "      <td>173</td>\n",
       "      <td>1990</td>\n",
       "      <td>Common Factor</td>\n",
       "      <td>1</td>\n",
       "      <td>[Electronic]</td>\n",
       "    </tr>\n",
       "    <tr>\n",
       "      <th>1</th>\n",
       "      <td>1</td>\n",
       "      <td>194</td>\n",
       "      <td>1990</td>\n",
       "      <td>Various</td>\n",
       "      <td>1</td>\n",
       "      <td>[Electronic]</td>\n",
       "    </tr>\n",
       "    <tr>\n",
       "      <th>2</th>\n",
       "      <td>1</td>\n",
       "      <td>1706</td>\n",
       "      <td>1990</td>\n",
       "      <td>Paperclip People</td>\n",
       "      <td>1</td>\n",
       "      <td>[Electronic]</td>\n",
       "    </tr>\n",
       "    <tr>\n",
       "      <th>3</th>\n",
       "      <td>1</td>\n",
       "      <td>3255</td>\n",
       "      <td>2000</td>\n",
       "      <td>Designer Music</td>\n",
       "      <td>1</td>\n",
       "      <td>[Electronic]</td>\n",
       "    </tr>\n",
       "    <tr>\n",
       "      <th>4</th>\n",
       "      <td>6</td>\n",
       "      <td>18231</td>\n",
       "      <td>1990</td>\n",
       "      <td>Fugees</td>\n",
       "      <td>1</td>\n",
       "      <td>[Hip Hop]</td>\n",
       "    </tr>\n",
       "    <tr>\n",
       "      <th>...</th>\n",
       "      <td>...</td>\n",
       "      <td>...</td>\n",
       "      <td>...</td>\n",
       "      <td>...</td>\n",
       "      <td>...</td>\n",
       "      <td>...</td>\n",
       "    </tr>\n",
       "    <tr>\n",
       "      <th>51511</th>\n",
       "      <td>3272121</td>\n",
       "      <td>13031346</td>\n",
       "      <td>1980</td>\n",
       "      <td>Squeeze Play</td>\n",
       "      <td>1</td>\n",
       "      <td>[Rock]</td>\n",
       "    </tr>\n",
       "    <tr>\n",
       "      <th>51512</th>\n",
       "      <td>3274611</td>\n",
       "      <td>537204</td>\n",
       "      <td>1990</td>\n",
       "      <td>Sfumato</td>\n",
       "      <td>1</td>\n",
       "      <td>[Electronic]</td>\n",
       "    </tr>\n",
       "    <tr>\n",
       "      <th>51513</th>\n",
       "      <td>3276255</td>\n",
       "      <td>194</td>\n",
       "      <td>1970</td>\n",
       "      <td>Various</td>\n",
       "      <td>1</td>\n",
       "      <td>[Rock]</td>\n",
       "    </tr>\n",
       "    <tr>\n",
       "      <th>51514</th>\n",
       "      <td>3280047</td>\n",
       "      <td>13060059</td>\n",
       "      <td>1980</td>\n",
       "      <td>Voices Of Joy &amp; Company</td>\n",
       "      <td>1</td>\n",
       "      <td>[Funk / Soul]</td>\n",
       "    </tr>\n",
       "    <tr>\n",
       "      <th>51515</th>\n",
       "      <td>3284613</td>\n",
       "      <td>12919505</td>\n",
       "      <td>1970</td>\n",
       "      <td>Brian Todd &amp; Whiplash</td>\n",
       "      <td>1</td>\n",
       "      <td>[Rock]</td>\n",
       "    </tr>\n",
       "  </tbody>\n",
       "</table>\n",
       "<p>51516 rows × 6 columns</p>\n",
       "</div>"
      ],
      "text/plain": [
       "       label_id  artist_id  decade              artist_name  num_records  \\\n",
       "0             1        173    1990            Common Factor            1   \n",
       "1             1        194    1990                  Various            1   \n",
       "2             1       1706    1990         Paperclip People            1   \n",
       "3             1       3255    2000           Designer Music            1   \n",
       "4             6      18231    1990                   Fugees            1   \n",
       "...         ...        ...     ...                      ...          ...   \n",
       "51511   3272121   13031346    1980             Squeeze Play            1   \n",
       "51512   3274611     537204    1990                  Sfumato            1   \n",
       "51513   3276255        194    1970                  Various            1   \n",
       "51514   3280047   13060059    1980  Voices Of Joy & Company            1   \n",
       "51515   3284613   12919505    1970    Brian Todd & Whiplash            1   \n",
       "\n",
       "       unique_genres  \n",
       "0       [Electronic]  \n",
       "1       [Electronic]  \n",
       "2       [Electronic]  \n",
       "3       [Electronic]  \n",
       "4          [Hip Hop]  \n",
       "...              ...  \n",
       "51511         [Rock]  \n",
       "51512   [Electronic]  \n",
       "51513         [Rock]  \n",
       "51514  [Funk / Soul]  \n",
       "51515         [Rock]  \n",
       "\n",
       "[51516 rows x 6 columns]"
      ]
     },
     "execution_count": 6,
     "metadata": {},
     "output_type": "execute_result"
    }
   ],
   "source": [
    "result"
   ]
  }
 ],
 "metadata": {
  "kernelspec": {
   "display_name": "Python [conda env:data-science] *",
   "language": "python",
   "name": "conda-env-data-science-py"
  },
  "language_info": {
   "codemirror_mode": {
    "name": "ipython",
    "version": 3
   },
   "file_extension": ".py",
   "mimetype": "text/x-python",
   "name": "python",
   "nbconvert_exporter": "python",
   "pygments_lexer": "ipython3",
   "version": "3.9.17"
  }
 },
 "nbformat": 4,
 "nbformat_minor": 5
}
