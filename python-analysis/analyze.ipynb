{
 "cells": [
  {
   "cell_type": "markdown",
   "id": "9929a8f7-6937-4498-871e-5f5eaf5b0d12",
   "metadata": {
    "tags": []
   },
   "source": [
    "Działając na zbiorze należy dla każdej wytwórni, każdego artysty, w każdej dekadzie, wyznaczyć liczbę\n",
    "wydanych płyt oraz lista różnych gatunków, których te płyty dotyczyły. <br> <br>\n",
    "W wynikowym zbiorze (3) powinny znaleźć się atrybuty:\n",
    "- identyfikator wytwórni\n",
    "- identyfikator artysty\n",
    "- nazwa artysty\n",
    "- dekada\n",
    "- liczba wydanych płyt\n",
    "- lista różnych gatunków na wydanych płytach\n",
    " <br> <br>\n",
    " \n",
    " Realizację projektu można podzielić na kilka faz (w nawiasach podano terminy, których będziemy chcieli się trzymać)\n",
    "\n",
    "    Implementację pierwszej części tego projektu opartej na MapReduce (25.10)\n",
    "    Implementację drugiej części opartej na platformie Hive (01.11)\n",
    "    Implementację orkiestracji całego przepływu danych (obejmującej obie powyższe części) (02-03.11) - zrobimy to w ramach zajęć\n",
    "    Rejestrację rozwiązań (02-10.11)\n",
    "    Ocenę cudzych rozwiązań (11-17.11)"
   ]
  },
  {
   "cell_type": "code",
   "execution_count": 1,
   "id": "150979c0-0b92-46b4-98a8-d7e3a25d5ed6",
   "metadata": {
    "tags": []
   },
   "outputs": [],
   "source": [
    "import pandas as pd\n",
    "import numpy as np\n",
    "\n",
    "columns = ['id', 'release_id', 'status', 'title', 'artist_id', 'artist_name', 'label_id', 'format', 'genre', 'style', 'country', 'release_date', '?']\n",
    "df = pd.read_csv('test0.csv', header=None, names=columns)\n",
    "df.reset_index(drop=True, inplace=True)\n",
    "df['decade'] = df['release_date'] // 10 * 10\n",
    "grouped = df.groupby(['label_id', 'artist_id', 'decade'])"
   ]
  },
  {
   "cell_type": "code",
   "execution_count": 2,
   "id": "da369a1b-e4ba-4bb9-90c6-8e73229b0195",
   "metadata": {
    "tags": []
   },
   "outputs": [],
   "source": [
    "def custom_agg(series):\n",
    "    num_records = series['id'].nunique()\n",
    "    unique_genres = series['genre'].unique()\n",
    "    artist_name = series['artist_name'].iloc[0]\n",
    "    return pd.Series({'artist_name': artist_name, 'num_records': num_records, 'unique_genres': unique_genres})\n",
    "\n",
    "result = grouped.apply(custom_agg).reset_index()"
   ]
  },
  {
   "cell_type": "code",
   "execution_count": 3,
   "id": "f7c85322-4621-482e-8d37-907a7230529a",
   "metadata": {
    "tags": []
   },
   "outputs": [
    {
     "data": {
      "text/plain": [
       "array(['Electronic', 'Pop', 'Non-Music', 'Classical', 'Rock', 'Jazz',\n",
       "       'Stage & Screen', 'Brass & Military', 'Reggae', 'Hip Hop',\n",
       "       'Folk, World, & Country'], dtype=object)"
      ]
     },
     "execution_count": 3,
     "metadata": {},
     "output_type": "execute_result"
    }
   ],
   "source": [
    "result[result.num_records == result.num_records.max()].unique_genres.values[0]"
   ]
  },
  {
   "cell_type": "code",
   "execution_count": 4,
   "id": "abc793ee-fc99-4441-bf6d-b7ab7a19f78e",
   "metadata": {
    "tags": []
   },
   "outputs": [
    {
     "data": {
      "text/html": [
       "<div>\n",
       "<style scoped>\n",
       "    .dataframe tbody tr th:only-of-type {\n",
       "        vertical-align: middle;\n",
       "    }\n",
       "\n",
       "    .dataframe tbody tr th {\n",
       "        vertical-align: top;\n",
       "    }\n",
       "\n",
       "    .dataframe thead th {\n",
       "        text-align: right;\n",
       "    }\n",
       "</style>\n",
       "<table border=\"1\" class=\"dataframe\">\n",
       "  <thead>\n",
       "    <tr style=\"text-align: right;\">\n",
       "      <th></th>\n",
       "      <th>label_id</th>\n",
       "      <th>artist_id</th>\n",
       "      <th>decade</th>\n",
       "      <th>artist_name</th>\n",
       "      <th>num_records</th>\n",
       "      <th>unique_genres</th>\n",
       "    </tr>\n",
       "  </thead>\n",
       "  <tbody>\n",
       "    <tr>\n",
       "      <th>7255</th>\n",
       "      <td>1818</td>\n",
       "      <td>194</td>\n",
       "      <td>1990</td>\n",
       "      <td>Various</td>\n",
       "      <td>63</td>\n",
       "      <td>[Electronic, Pop, Non-Music, Classical, Rock, ...</td>\n",
       "    </tr>\n",
       "  </tbody>\n",
       "</table>\n",
       "</div>"
      ],
      "text/plain": [
       "      label_id  artist_id  decade artist_name  num_records  \\\n",
       "7255      1818        194    1990     Various           63   \n",
       "\n",
       "                                          unique_genres  \n",
       "7255  [Electronic, Pop, Non-Music, Classical, Rock, ...  "
      ]
     },
     "execution_count": 4,
     "metadata": {},
     "output_type": "execute_result"
    }
   ],
   "source": [
    "no = result[result.num_records == result.num_records.max()]\n",
    "no\n",
    "# w MapReduce jest 62 -> do sprawdzenia"
   ]
  },
  {
   "cell_type": "code",
   "execution_count": 6,
   "id": "a33bd4af-d87c-486a-828d-47cea9ee1880",
   "metadata": {
    "tags": []
   },
   "outputs": [
    {
     "data": {
      "text/plain": [
       "26"
      ]
     },
     "execution_count": 6,
     "metadata": {},
     "output_type": "execute_result"
    }
   ],
   "source": [
    "len(result[result['artist_name']=='Led Zeppelin'])\n",
    "# MapReduce to samo"
   ]
  }
 ],
 "metadata": {
  "kernelspec": {
   "display_name": "Python [conda env:data-science] *",
   "language": "python",
   "name": "conda-env-data-science-py"
  },
  "language_info": {
   "codemirror_mode": {
    "name": "ipython",
    "version": 3
   },
   "file_extension": ".py",
   "mimetype": "text/x-python",
   "name": "python",
   "nbconvert_exporter": "python",
   "pygments_lexer": "ipython3",
   "version": "3.9.17"
  }
 },
 "nbformat": 4,
 "nbformat_minor": 5
}
